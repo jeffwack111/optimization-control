{
 "cells": [
  {
   "cell_type": "code",
   "execution_count": 1,
   "id": "db7eebcc-f810-4a03-b3de-5ee7414682eb",
   "metadata": {},
   "outputs": [],
   "source": [
    "import cvxpy as cp\n",
    "import numpy as np\n",
    "import scipy.linalg as la"
   ]
  },
  {
   "cell_type": "code",
   "execution_count": 2,
   "id": "534625ca-6bb4-49f3-9b79-d24bcec48ae5",
   "metadata": {},
   "outputs": [],
   "source": [
    "nx = 10 #dimension of the state space  \n",
    "nu = 4  #dimension of the control input space\n",
    "nw = 2  #dimension of the disturbance input space\n",
    "ny = 5  #dimension of the feedback output space\n",
    "nz = 3  #dimension of the performance output space"
   ]
  },
  {
   "cell_type": "code",
   "execution_count": 3,
   "id": "216f5ab4-ee32-4b7b-ab62-9f532299b822",
   "metadata": {},
   "outputs": [],
   "source": [
    "#The following define the state space representation of the plant\n",
    "A = np.random.randn(nx,nx)\n",
    "B1 = np.random.randn(nx,nw)\n",
    "B2 = np.random.randn(nx,nu)\n",
    "C1 = np.random.randn(nz,nx)\n",
    "D11 = np.random.randn(nz,nw)\n",
    "D12 = np.random.randn(nz,nu)\n",
    "C2 = np.random.randn(ny,nx)\n",
    "D21 = np.random.randn(ny,nw)\n",
    "D22 = np.random.randn(ny,nu)"
   ]
  },
  {
   "cell_type": "code",
   "execution_count": 4,
   "id": "b280ec37-d044-4ee8-950b-96fc517c6428",
   "metadata": {},
   "outputs": [],
   "source": [
    "#We will optimize over the following intermediate matrices \n",
    "#which will be used to produce the state space representation of the controller\n",
    "An = cp.Variable((nx,nx))\n",
    "Bn = cp.Variable((nx,ny))\n",
    "Cn = cp.Variable((nu,nx))\n",
    "Dn = cp.Variable((nu,ny))\n",
    "\n",
    "X1 = cp.Variable((nx,nx),symmetric=True)\n",
    "Y1 = cp.Variable((nx,nx),symmetric=True)\n",
    "Z = cp.Variable((nz,nz),symmetric=True)\n",
    "\n",
    "nu = cp.Variable()"
   ]
  },
  {
   "cell_type": "code",
   "execution_count": 5,
   "id": "04f8331f-cb44-4e3a-b041-a3881cc4616a",
   "metadata": {},
   "outputs": [],
   "source": [
    "#Constraints\n",
    "constraints = [nu >= 0]\n",
    "\n",
    "constraints += [cp.bmat([[A@Y1 + Y1@A.T + B2@Cn + Cn.T@B2.T, A + An.T + B2@Dn@C2,               B1 + B2@Dn@D21    ],\n",
    "                         [(A + An.T + B2@Dn@C2).T,           X1@A + A.T@X1 + Bn@C2 + C2.T@Bn.T, X1@B1+Bn@D21      ],\n",
    "                         [(B1 + B2@Dn@D21).T,                (X1@B1+Bn@D21).T,                  -1*np.identity(nw)]]) << 0]\n",
    "\n",
    "constraints += [cp.bmat([[X1,                       np.identity(nx),            Y1@C1.T + Cn.T@D12.T  ],\n",
    "                         [np.identity(nx),          Y1,                         C1.T + C2.T@Dn.T@D12.T],\n",
    "                         [(Y1@C1.T + Cn.T@D12.T).T, (C1.T + C2.T@Dn.T@D12.T).T, Z                     ]]) >> 0]\n",
    "\n",
    "constraints += [D11 + D12@Dn@D21 == 0]\n",
    "\n",
    "constraints += [cp.bmat([[X1,              np.identity(nx)],\n",
    "                         [np.identity(nx), Y1             ]]) >> 0]\n",
    "\n",
    "constraints += [cp.trace(Z) <= nu]"
   ]
  },
  {
   "cell_type": "code",
   "execution_count": 6,
   "id": "f3cb764e-34e0-4ae4-ad76-a5a75d52aa16",
   "metadata": {},
   "outputs": [
    {
     "name": "stderr",
     "output_type": "stream",
     "text": [
      "C:\\Users\\Jeff\\mambaforge\\envs\\cvxpy\\Lib\\site-packages\\cvxpy\\problems\\problem.py:1403: UserWarning: Solution may be inaccurate. Try another solver, adjusting the solver settings, or solve with verbose=True for more information.\n",
      "  warnings.warn(\n"
     ]
    },
    {
     "data": {
      "text/plain": [
       "0.4710606016569877"
      ]
     },
     "execution_count": 6,
     "metadata": {},
     "output_type": "execute_result"
    }
   ],
   "source": [
    "#Now put it all into a cvxpy problem and solve\n",
    "prob = cp.Problem(cp.Minimize(nu), constraints)\n",
    "prob.solve(verbose=False)"
   ]
  },
  {
   "cell_type": "code",
   "execution_count": 7,
   "id": "aa53f749-88db-4d8c-bd35-e124f14ac1fb",
   "metadata": {},
   "outputs": [],
   "source": [
    "#Now we can construct the controller\n",
    "(P, L, U) = la.lu(np.identity(nx) - X1.value*Y1.value)"
   ]
  },
  {
   "cell_type": "code",
   "execution_count": null,
   "id": "8e2f3a46-5d4b-4183-8e8c-34cc2b4b91df",
   "metadata": {},
   "outputs": [],
   "source": []
  }
 ],
 "metadata": {
  "kernelspec": {
   "display_name": "Python 3 (ipykernel)",
   "language": "python",
   "name": "python3"
  },
  "language_info": {
   "codemirror_mode": {
    "name": "ipython",
    "version": 3
   },
   "file_extension": ".py",
   "mimetype": "text/x-python",
   "name": "python",
   "nbconvert_exporter": "python",
   "pygments_lexer": "ipython3",
   "version": "3.11.6"
  }
 },
 "nbformat": 4,
 "nbformat_minor": 5
}
